{
 "cells": [
  {
   "cell_type": "markdown",
   "id": "8ed8a187-33fb-4174-863a-5a27ef1754a7",
   "metadata": {},
   "source": [
    "#结巴分词实践"
   ]
  },
  {
   "cell_type": "markdown",
   "id": "c2a30bb2-5e07-4e94-8bd3-e392d71e0b4a",
   "metadata": {},
   "source": [
    "##结巴分词的三种实践"
   ]
  },
  {
   "cell_type": "code",
   "execution_count": null,
   "id": "7dbb8566-9f42-40e2-892e-4d7eba6d85a3",
   "metadata": {},
   "outputs": [],
   "source": [
    "###精确模式"
   ]
  },
  {
   "cell_type": "code",
   "execution_count": null,
   "id": "5b6c7521-f13e-45af-adfd-9d6e88d45ee4",
   "metadata": {},
   "outputs": [],
   "source": []
  },
  {
   "cell_type": "code",
   "execution_count": null,
   "id": "59b1d41b-c7a4-44c1-9e55-9d4d41c54574",
   "metadata": {},
   "outputs": [],
   "source": [
    "###全模式"
   ]
  },
  {
   "cell_type": "code",
   "execution_count": null,
   "id": "1c78ae09-280b-4e85-aac1-a46639602840",
   "metadata": {},
   "outputs": [],
   "source": []
  },
  {
   "cell_type": "code",
   "execution_count": null,
   "id": "d480a9ec-bd1f-460e-9cbf-65c121e5b33a",
   "metadata": {},
   "outputs": [],
   "source": [
    "###搜索引擎模式"
   ]
  },
  {
   "cell_type": "code",
   "execution_count": null,
   "id": "59a1ac2c-b265-4b0b-a2a4-0215e54522b1",
   "metadata": {},
   "outputs": [],
   "source": []
  }
 ],
 "metadata": {
  "kernelspec": {
   "display_name": "Python 3 (ipykernel)",
   "language": "python",
   "name": "python3"
  },
  "language_info": {
   "codemirror_mode": {
    "name": "ipython",
    "version": 3
   },
   "file_extension": ".py",
   "mimetype": "text/x-python",
   "name": "python",
   "nbconvert_exporter": "python",
   "pygments_lexer": "ipython3",
   "version": "3.9.21"
  }
 },
 "nbformat": 4,
 "nbformat_minor": 5
}
